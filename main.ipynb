{
 "cells": [
  {
   "cell_type": "code",
   "execution_count": 13,
   "id": "afd3210d",
   "metadata": {},
   "outputs": [
    {
     "name": "stdout",
     "output_type": "stream",
     "text": [
      "Requirement already satisfied: llama-index in c:\\users\\user\\anaconda3\\lib\\site-packages (0.14.0)\n",
      "Requirement already satisfied: llama-index-cli<0.6,>=0.5.0 in c:\\users\\user\\anaconda3\\lib\\site-packages (from llama-index) (0.5.0)\n",
      "Requirement already satisfied: llama-index-core<0.15,>=0.13.6 in c:\\users\\user\\anaconda3\\lib\\site-packages (from llama-index) (0.13.6)\n",
      "Requirement already satisfied: llama-index-embeddings-openai<0.6,>=0.5.0 in c:\\users\\user\\anaconda3\\lib\\site-packages (from llama-index) (0.5.1)\n",
      "Requirement already satisfied: llama-index-indices-managed-llama-cloud>=0.4.0 in c:\\users\\user\\anaconda3\\lib\\site-packages (from llama-index) (0.9.4)\n",
      "Requirement already satisfied: llama-index-llms-openai<0.6,>=0.5.0 in c:\\users\\user\\anaconda3\\lib\\site-packages (from llama-index) (0.5.6)\n",
      "Requirement already satisfied: llama-index-readers-file<0.6,>=0.5.0 in c:\\users\\user\\anaconda3\\lib\\site-packages (from llama-index) (0.5.4)\n",
      "Requirement already satisfied: llama-index-readers-llama-parse>=0.4.0 in c:\\users\\user\\anaconda3\\lib\\site-packages (from llama-index) (0.5.1)\n",
      "Requirement already satisfied: nltk>3.8.1 in c:\\users\\user\\anaconda3\\lib\\site-packages (from llama-index) (3.9.1)\n",
      "Requirement already satisfied: aiohttp<4,>=3.8.6 in c:\\users\\user\\anaconda3\\lib\\site-packages (from llama-index-core<0.15,>=0.13.6->llama-index) (3.11.10)\n",
      "Requirement already satisfied: aiosqlite in c:\\users\\user\\anaconda3\\lib\\site-packages (from llama-index-core<0.15,>=0.13.6->llama-index) (0.21.0)\n",
      "Requirement already satisfied: banks<3,>=2.2.0 in c:\\users\\user\\anaconda3\\lib\\site-packages (from llama-index-core<0.15,>=0.13.6->llama-index) (2.2.0)\n",
      "Requirement already satisfied: dataclasses-json in c:\\users\\user\\anaconda3\\lib\\site-packages (from llama-index-core<0.15,>=0.13.6->llama-index) (0.6.7)\n",
      "Requirement already satisfied: deprecated>=1.2.9.3 in c:\\users\\user\\anaconda3\\lib\\site-packages (from llama-index-core<0.15,>=0.13.6->llama-index) (1.2.18)\n",
      "Requirement already satisfied: dirtyjson<2,>=1.0.8 in c:\\users\\user\\anaconda3\\lib\\site-packages (from llama-index-core<0.15,>=0.13.6->llama-index) (1.0.8)\n",
      "Requirement already satisfied: filetype<2,>=1.2.0 in c:\\users\\user\\anaconda3\\lib\\site-packages (from llama-index-core<0.15,>=0.13.6->llama-index) (1.2.0)\n",
      "Requirement already satisfied: fsspec>=2023.5.0 in c:\\users\\user\\anaconda3\\lib\\site-packages (from llama-index-core<0.15,>=0.13.6->llama-index) (2025.3.2)\n",
      "Requirement already satisfied: httpx in c:\\users\\user\\anaconda3\\lib\\site-packages (from llama-index-core<0.15,>=0.13.6->llama-index) (0.28.1)\n",
      "Requirement already satisfied: llama-index-workflows<2,>=1.0.1 in c:\\users\\user\\anaconda3\\lib\\site-packages (from llama-index-core<0.15,>=0.13.6->llama-index) (1.3.0)\n",
      "Requirement already satisfied: nest-asyncio<2,>=1.5.8 in c:\\users\\user\\anaconda3\\lib\\site-packages (from llama-index-core<0.15,>=0.13.6->llama-index) (1.6.0)\n",
      "Requirement already satisfied: networkx>=3.0 in c:\\users\\user\\anaconda3\\lib\\site-packages (from llama-index-core<0.15,>=0.13.6->llama-index) (3.4.2)\n",
      "Requirement already satisfied: numpy in c:\\users\\user\\anaconda3\\lib\\site-packages (from llama-index-core<0.15,>=0.13.6->llama-index) (2.1.3)\n",
      "Requirement already satisfied: pillow>=9.0.0 in c:\\users\\user\\anaconda3\\lib\\site-packages (from llama-index-core<0.15,>=0.13.6->llama-index) (11.1.0)\n",
      "Requirement already satisfied: platformdirs in c:\\users\\user\\anaconda3\\lib\\site-packages (from llama-index-core<0.15,>=0.13.6->llama-index) (4.3.7)\n",
      "Requirement already satisfied: pydantic>=2.8.0 in c:\\users\\user\\anaconda3\\lib\\site-packages (from llama-index-core<0.15,>=0.13.6->llama-index) (2.11.7)\n",
      "Requirement already satisfied: pyyaml>=6.0.1 in c:\\users\\user\\anaconda3\\lib\\site-packages (from llama-index-core<0.15,>=0.13.6->llama-index) (6.0.2)\n",
      "Requirement already satisfied: requests>=2.31.0 in c:\\users\\user\\anaconda3\\lib\\site-packages (from llama-index-core<0.15,>=0.13.6->llama-index) (2.32.3)\n",
      "Requirement already satisfied: setuptools>=80.9.0 in c:\\users\\user\\anaconda3\\lib\\site-packages (from llama-index-core<0.15,>=0.13.6->llama-index) (80.9.0)\n",
      "Requirement already satisfied: sqlalchemy>=1.4.49 in c:\\users\\user\\anaconda3\\lib\\site-packages (from sqlalchemy[asyncio]>=1.4.49->llama-index-core<0.15,>=0.13.6->llama-index) (2.0.39)\n",
      "Requirement already satisfied: tenacity!=8.4.0,<10.0.0,>=8.2.0 in c:\\users\\user\\anaconda3\\lib\\site-packages (from llama-index-core<0.15,>=0.13.6->llama-index) (9.0.0)\n",
      "Requirement already satisfied: tiktoken>=0.7.0 in c:\\users\\user\\anaconda3\\lib\\site-packages (from llama-index-core<0.15,>=0.13.6->llama-index) (0.11.0)\n",
      "Requirement already satisfied: tqdm<5,>=4.66.1 in c:\\users\\user\\anaconda3\\lib\\site-packages (from llama-index-core<0.15,>=0.13.6->llama-index) (4.67.1)\n",
      "Requirement already satisfied: typing-extensions>=4.5.0 in c:\\users\\user\\anaconda3\\lib\\site-packages (from llama-index-core<0.15,>=0.13.6->llama-index) (4.12.2)\n",
      "Requirement already satisfied: typing-inspect>=0.8.0 in c:\\users\\user\\anaconda3\\lib\\site-packages (from llama-index-core<0.15,>=0.13.6->llama-index) (0.9.0)\n",
      "Requirement already satisfied: wrapt in c:\\users\\user\\anaconda3\\lib\\site-packages (from llama-index-core<0.15,>=0.13.6->llama-index) (1.17.0)\n",
      "Requirement already satisfied: aiohappyeyeballs>=2.3.0 in c:\\users\\user\\anaconda3\\lib\\site-packages (from aiohttp<4,>=3.8.6->llama-index-core<0.15,>=0.13.6->llama-index) (2.4.4)\n",
      "Requirement already satisfied: aiosignal>=1.1.2 in c:\\users\\user\\anaconda3\\lib\\site-packages (from aiohttp<4,>=3.8.6->llama-index-core<0.15,>=0.13.6->llama-index) (1.2.0)\n",
      "Requirement already satisfied: attrs>=17.3.0 in c:\\users\\user\\anaconda3\\lib\\site-packages (from aiohttp<4,>=3.8.6->llama-index-core<0.15,>=0.13.6->llama-index) (24.3.0)\n",
      "Requirement already satisfied: frozenlist>=1.1.1 in c:\\users\\user\\anaconda3\\lib\\site-packages (from aiohttp<4,>=3.8.6->llama-index-core<0.15,>=0.13.6->llama-index) (1.5.0)\n",
      "Requirement already satisfied: multidict<7.0,>=4.5 in c:\\users\\user\\anaconda3\\lib\\site-packages (from aiohttp<4,>=3.8.6->llama-index-core<0.15,>=0.13.6->llama-index) (6.1.0)\n",
      "Requirement already satisfied: propcache>=0.2.0 in c:\\users\\user\\anaconda3\\lib\\site-packages (from aiohttp<4,>=3.8.6->llama-index-core<0.15,>=0.13.6->llama-index) (0.3.1)\n",
      "Requirement already satisfied: yarl<2.0,>=1.17.0 in c:\\users\\user\\anaconda3\\lib\\site-packages (from aiohttp<4,>=3.8.6->llama-index-core<0.15,>=0.13.6->llama-index) (1.18.0)\n",
      "Requirement already satisfied: griffe in c:\\users\\user\\anaconda3\\lib\\site-packages (from banks<3,>=2.2.0->llama-index-core<0.15,>=0.13.6->llama-index) (1.14.0)\n",
      "Requirement already satisfied: jinja2 in c:\\users\\user\\anaconda3\\lib\\site-packages (from banks<3,>=2.2.0->llama-index-core<0.15,>=0.13.6->llama-index) (3.1.6)\n",
      "Requirement already satisfied: openai>=1.1.0 in c:\\users\\user\\anaconda3\\lib\\site-packages (from llama-index-embeddings-openai<0.6,>=0.5.0->llama-index) (1.107.0)\n",
      "Requirement already satisfied: beautifulsoup4<5,>=4.12.3 in c:\\users\\user\\anaconda3\\lib\\site-packages (from llama-index-readers-file<0.6,>=0.5.0->llama-index) (4.12.3)\n",
      "Requirement already satisfied: defusedxml>=0.7.1 in c:\\users\\user\\anaconda3\\lib\\site-packages (from llama-index-readers-file<0.6,>=0.5.0->llama-index) (0.7.1)\n",
      "Requirement already satisfied: pandas<2.3.0 in c:\\users\\user\\anaconda3\\lib\\site-packages (from llama-index-readers-file<0.6,>=0.5.0->llama-index) (2.2.3)\n",
      "Requirement already satisfied: pypdf<7,>=5.1.0 in c:\\users\\user\\anaconda3\\lib\\site-packages (from llama-index-readers-file<0.6,>=0.5.0->llama-index) (6.0.0)\n",
      "Requirement already satisfied: striprtf<0.0.27,>=0.0.26 in c:\\users\\user\\anaconda3\\lib\\site-packages (from llama-index-readers-file<0.6,>=0.5.0->llama-index) (0.0.26)\n",
      "Requirement already satisfied: soupsieve>1.2 in c:\\users\\user\\anaconda3\\lib\\site-packages (from beautifulsoup4<5,>=4.12.3->llama-index-readers-file<0.6,>=0.5.0->llama-index) (2.5)\n",
      "Requirement already satisfied: llama-index-instrumentation>=0.1.0 in c:\\users\\user\\anaconda3\\lib\\site-packages (from llama-index-workflows<2,>=1.0.1->llama-index-core<0.15,>=0.13.6->llama-index) (0.4.0)\n",
      "Requirement already satisfied: anyio<5,>=3.5.0 in c:\\users\\user\\anaconda3\\lib\\site-packages (from openai>=1.1.0->llama-index-embeddings-openai<0.6,>=0.5.0->llama-index) (4.10.0)\n",
      "Requirement already satisfied: distro<2,>=1.7.0 in c:\\users\\user\\anaconda3\\lib\\site-packages (from openai>=1.1.0->llama-index-embeddings-openai<0.6,>=0.5.0->llama-index) (1.9.0)\n",
      "Requirement already satisfied: jiter<1,>=0.4.0 in c:\\users\\user\\anaconda3\\lib\\site-packages (from openai>=1.1.0->llama-index-embeddings-openai<0.6,>=0.5.0->llama-index) (0.10.0)\n",
      "Requirement already satisfied: sniffio in c:\\users\\user\\anaconda3\\lib\\site-packages (from openai>=1.1.0->llama-index-embeddings-openai<0.6,>=0.5.0->llama-index) (1.3.0)\n",
      "Requirement already satisfied: idna>=2.8 in c:\\users\\user\\anaconda3\\lib\\site-packages (from anyio<5,>=3.5.0->openai>=1.1.0->llama-index-embeddings-openai<0.6,>=0.5.0->llama-index) (3.7)\n",
      "Requirement already satisfied: certifi in c:\\users\\user\\anaconda3\\lib\\site-packages (from httpx->llama-index-core<0.15,>=0.13.6->llama-index) (2025.4.26)\n",
      "Requirement already satisfied: httpcore==1.* in c:\\users\\user\\anaconda3\\lib\\site-packages (from httpx->llama-index-core<0.15,>=0.13.6->llama-index) (1.0.9)\n",
      "Requirement already satisfied: h11>=0.16 in c:\\users\\user\\anaconda3\\lib\\site-packages (from httpcore==1.*->httpx->llama-index-core<0.15,>=0.13.6->llama-index) (0.16.0)\n",
      "Requirement already satisfied: python-dateutil>=2.8.2 in c:\\users\\user\\anaconda3\\lib\\site-packages (from pandas<2.3.0->llama-index-readers-file<0.6,>=0.5.0->llama-index) (2.9.0.post0)\n",
      "Requirement already satisfied: pytz>=2020.1 in c:\\users\\user\\anaconda3\\lib\\site-packages (from pandas<2.3.0->llama-index-readers-file<0.6,>=0.5.0->llama-index) (2024.1)\n",
      "Requirement already satisfied: tzdata>=2022.7 in c:\\users\\user\\anaconda3\\lib\\site-packages (from pandas<2.3.0->llama-index-readers-file<0.6,>=0.5.0->llama-index) (2025.2)\n",
      "Requirement already satisfied: annotated-types>=0.6.0 in c:\\users\\user\\anaconda3\\lib\\site-packages (from pydantic>=2.8.0->llama-index-core<0.15,>=0.13.6->llama-index) (0.6.0)\n",
      "Requirement already satisfied: pydantic-core==2.33.2 in c:\\users\\user\\anaconda3\\lib\\site-packages (from pydantic>=2.8.0->llama-index-core<0.15,>=0.13.6->llama-index) (2.33.2)\n",
      "Requirement already satisfied: typing-inspection>=0.4.0 in c:\\users\\user\\anaconda3\\lib\\site-packages (from pydantic>=2.8.0->llama-index-core<0.15,>=0.13.6->llama-index) (0.4.1)\n",
      "Requirement already satisfied: colorama in c:\\users\\user\\anaconda3\\lib\\site-packages (from tqdm<5,>=4.66.1->llama-index-core<0.15,>=0.13.6->llama-index) (0.4.6)\n",
      "Requirement already satisfied: llama-cloud==0.1.35 in c:\\users\\user\\anaconda3\\lib\\site-packages (from llama-index-indices-managed-llama-cloud>=0.4.0->llama-index) (0.1.35)\n",
      "Requirement already satisfied: llama-parse>=0.5.0 in c:\\users\\user\\anaconda3\\lib\\site-packages (from llama-index-readers-llama-parse>=0.4.0->llama-index) (0.6.54)\n",
      "Requirement already satisfied: llama-cloud-services>=0.6.54 in c:\\users\\user\\anaconda3\\lib\\site-packages (from llama-parse>=0.5.0->llama-index-readers-llama-parse>=0.4.0->llama-index) (0.6.54)\n",
      "Requirement already satisfied: click<9,>=8.1.7 in c:\\users\\user\\anaconda3\\lib\\site-packages (from llama-cloud-services>=0.6.54->llama-parse>=0.5.0->llama-index-readers-llama-parse>=0.4.0->llama-index) (8.1.8)\n",
      "Requirement already satisfied: python-dotenv<2,>=1.0.1 in c:\\users\\user\\anaconda3\\lib\\site-packages (from llama-cloud-services>=0.6.54->llama-parse>=0.5.0->llama-index-readers-llama-parse>=0.4.0->llama-index) (1.1.0)\n",
      "Requirement already satisfied: joblib in c:\\users\\user\\anaconda3\\lib\\site-packages (from nltk>3.8.1->llama-index) (1.4.2)\n",
      "Requirement already satisfied: regex>=2021.8.3 in c:\\users\\user\\anaconda3\\lib\\site-packages (from nltk>3.8.1->llama-index) (2024.11.6)\n",
      "Requirement already satisfied: six>=1.5 in c:\\users\\user\\anaconda3\\lib\\site-packages (from python-dateutil>=2.8.2->pandas<2.3.0->llama-index-readers-file<0.6,>=0.5.0->llama-index) (1.17.0)\n",
      "Requirement already satisfied: charset-normalizer<4,>=2 in c:\\users\\user\\anaconda3\\lib\\site-packages (from requests>=2.31.0->llama-index-core<0.15,>=0.13.6->llama-index) (3.3.2)\n",
      "Requirement already satisfied: urllib3<3,>=1.21.1 in c:\\users\\user\\anaconda3\\lib\\site-packages (from requests>=2.31.0->llama-index-core<0.15,>=0.13.6->llama-index) (2.3.0)\n",
      "Requirement already satisfied: greenlet!=0.4.17 in c:\\users\\user\\anaconda3\\lib\\site-packages (from sqlalchemy>=1.4.49->sqlalchemy[asyncio]>=1.4.49->llama-index-core<0.15,>=0.13.6->llama-index) (3.1.1)\n",
      "Requirement already satisfied: mypy-extensions>=0.3.0 in c:\\users\\user\\anaconda3\\lib\\site-packages (from typing-inspect>=0.8.0->llama-index-core<0.15,>=0.13.6->llama-index) (1.0.0)\n",
      "Requirement already satisfied: marshmallow<4.0.0,>=3.18.0 in c:\\users\\user\\anaconda3\\lib\\site-packages (from dataclasses-json->llama-index-core<0.15,>=0.13.6->llama-index) (3.26.1)\n",
      "Requirement already satisfied: packaging>=17.0 in c:\\users\\user\\anaconda3\\lib\\site-packages (from marshmallow<4.0.0,>=3.18.0->dataclasses-json->llama-index-core<0.15,>=0.13.6->llama-index) (24.2)\n",
      "Requirement already satisfied: MarkupSafe>=2.0 in c:\\users\\user\\anaconda3\\lib\\site-packages (from jinja2->banks<3,>=2.2.0->llama-index-core<0.15,>=0.13.6->llama-index) (3.0.2)\n",
      "Requirement already satisfied: llama-index-llms-google-genai in c:\\users\\user\\anaconda3\\lib\\site-packages (0.3.1)\n",
      "Requirement already satisfied: google-genai<2,>=1.24.0 in c:\\users\\user\\anaconda3\\lib\\site-packages (from llama-index-llms-google-genai) (1.34.0)\n",
      "Requirement already satisfied: llama-index-core<0.15,>=0.13.0 in c:\\users\\user\\anaconda3\\lib\\site-packages (from llama-index-llms-google-genai) (0.13.6)\n",
      "Requirement already satisfied: pillow>=10.2.0 in c:\\users\\user\\anaconda3\\lib\\site-packages (from llama-index-llms-google-genai) (11.1.0)\n",
      "Requirement already satisfied: anyio<5.0.0,>=4.8.0 in c:\\users\\user\\anaconda3\\lib\\site-packages (from google-genai<2,>=1.24.0->llama-index-llms-google-genai) (4.10.0)\n",
      "Requirement already satisfied: google-auth<3.0.0,>=2.14.1 in c:\\users\\user\\anaconda3\\lib\\site-packages (from google-genai<2,>=1.24.0->llama-index-llms-google-genai) (2.40.3)\n",
      "Requirement already satisfied: httpx<1.0.0,>=0.28.1 in c:\\users\\user\\anaconda3\\lib\\site-packages (from google-genai<2,>=1.24.0->llama-index-llms-google-genai) (0.28.1)\n",
      "Requirement already satisfied: pydantic<3.0.0,>=2.0.0 in c:\\users\\user\\anaconda3\\lib\\site-packages (from google-genai<2,>=1.24.0->llama-index-llms-google-genai) (2.11.7)\n",
      "Requirement already satisfied: requests<3.0.0,>=2.28.1 in c:\\users\\user\\anaconda3\\lib\\site-packages (from google-genai<2,>=1.24.0->llama-index-llms-google-genai) (2.32.3)\n",
      "Requirement already satisfied: tenacity<9.2.0,>=8.2.3 in c:\\users\\user\\anaconda3\\lib\\site-packages (from google-genai<2,>=1.24.0->llama-index-llms-google-genai) (9.0.0)\n",
      "Requirement already satisfied: websockets<15.1.0,>=13.0.0 in c:\\users\\user\\anaconda3\\lib\\site-packages (from google-genai<2,>=1.24.0->llama-index-llms-google-genai) (15.0.1)\n",
      "Requirement already satisfied: typing-extensions<5.0.0,>=4.11.0 in c:\\users\\user\\anaconda3\\lib\\site-packages (from google-genai<2,>=1.24.0->llama-index-llms-google-genai) (4.12.2)\n",
      "Requirement already satisfied: idna>=2.8 in c:\\users\\user\\anaconda3\\lib\\site-packages (from anyio<5.0.0,>=4.8.0->google-genai<2,>=1.24.0->llama-index-llms-google-genai) (3.7)\n",
      "Requirement already satisfied: sniffio>=1.1 in c:\\users\\user\\anaconda3\\lib\\site-packages (from anyio<5.0.0,>=4.8.0->google-genai<2,>=1.24.0->llama-index-llms-google-genai) (1.3.0)\n",
      "Requirement already satisfied: cachetools<6.0,>=2.0.0 in c:\\users\\user\\anaconda3\\lib\\site-packages (from google-auth<3.0.0,>=2.14.1->google-genai<2,>=1.24.0->llama-index-llms-google-genai) (5.5.1)\n",
      "Requirement already satisfied: pyasn1-modules>=0.2.1 in c:\\users\\user\\anaconda3\\lib\\site-packages (from google-auth<3.0.0,>=2.14.1->google-genai<2,>=1.24.0->llama-index-llms-google-genai) (0.2.8)\n",
      "Requirement already satisfied: rsa<5,>=3.1.4 in c:\\users\\user\\anaconda3\\lib\\site-packages (from google-auth<3.0.0,>=2.14.1->google-genai<2,>=1.24.0->llama-index-llms-google-genai) (4.9.1)\n",
      "Requirement already satisfied: certifi in c:\\users\\user\\anaconda3\\lib\\site-packages (from httpx<1.0.0,>=0.28.1->google-genai<2,>=1.24.0->llama-index-llms-google-genai) (2025.4.26)\n",
      "Requirement already satisfied: httpcore==1.* in c:\\users\\user\\anaconda3\\lib\\site-packages (from httpx<1.0.0,>=0.28.1->google-genai<2,>=1.24.0->llama-index-llms-google-genai) (1.0.9)\n",
      "Requirement already satisfied: h11>=0.16 in c:\\users\\user\\anaconda3\\lib\\site-packages (from httpcore==1.*->httpx<1.0.0,>=0.28.1->google-genai<2,>=1.24.0->llama-index-llms-google-genai) (0.16.0)\n",
      "Requirement already satisfied: aiohttp<4,>=3.8.6 in c:\\users\\user\\anaconda3\\lib\\site-packages (from llama-index-core<0.15,>=0.13.0->llama-index-llms-google-genai) (3.11.10)\n",
      "Requirement already satisfied: aiosqlite in c:\\users\\user\\anaconda3\\lib\\site-packages (from llama-index-core<0.15,>=0.13.0->llama-index-llms-google-genai) (0.21.0)\n",
      "Requirement already satisfied: banks<3,>=2.2.0 in c:\\users\\user\\anaconda3\\lib\\site-packages (from llama-index-core<0.15,>=0.13.0->llama-index-llms-google-genai) (2.2.0)\n",
      "Requirement already satisfied: dataclasses-json in c:\\users\\user\\anaconda3\\lib\\site-packages (from llama-index-core<0.15,>=0.13.0->llama-index-llms-google-genai) (0.6.7)\n",
      "Requirement already satisfied: deprecated>=1.2.9.3 in c:\\users\\user\\anaconda3\\lib\\site-packages (from llama-index-core<0.15,>=0.13.0->llama-index-llms-google-genai) (1.2.18)\n",
      "Requirement already satisfied: dirtyjson<2,>=1.0.8 in c:\\users\\user\\anaconda3\\lib\\site-packages (from llama-index-core<0.15,>=0.13.0->llama-index-llms-google-genai) (1.0.8)\n",
      "Requirement already satisfied: filetype<2,>=1.2.0 in c:\\users\\user\\anaconda3\\lib\\site-packages (from llama-index-core<0.15,>=0.13.0->llama-index-llms-google-genai) (1.2.0)\n",
      "Requirement already satisfied: fsspec>=2023.5.0 in c:\\users\\user\\anaconda3\\lib\\site-packages (from llama-index-core<0.15,>=0.13.0->llama-index-llms-google-genai) (2025.3.2)\n",
      "Requirement already satisfied: llama-index-workflows<2,>=1.0.1 in c:\\users\\user\\anaconda3\\lib\\site-packages (from llama-index-core<0.15,>=0.13.0->llama-index-llms-google-genai) (1.3.0)\n",
      "Requirement already satisfied: nest-asyncio<2,>=1.5.8 in c:\\users\\user\\anaconda3\\lib\\site-packages (from llama-index-core<0.15,>=0.13.0->llama-index-llms-google-genai) (1.6.0)\n",
      "Requirement already satisfied: networkx>=3.0 in c:\\users\\user\\anaconda3\\lib\\site-packages (from llama-index-core<0.15,>=0.13.0->llama-index-llms-google-genai) (3.4.2)\n",
      "Requirement already satisfied: nltk>3.8.1 in c:\\users\\user\\anaconda3\\lib\\site-packages (from llama-index-core<0.15,>=0.13.0->llama-index-llms-google-genai) (3.9.1)\n",
      "Requirement already satisfied: numpy in c:\\users\\user\\anaconda3\\lib\\site-packages (from llama-index-core<0.15,>=0.13.0->llama-index-llms-google-genai) (2.1.3)\n",
      "Requirement already satisfied: platformdirs in c:\\users\\user\\anaconda3\\lib\\site-packages (from llama-index-core<0.15,>=0.13.0->llama-index-llms-google-genai) (4.3.7)\n",
      "Requirement already satisfied: pyyaml>=6.0.1 in c:\\users\\user\\anaconda3\\lib\\site-packages (from llama-index-core<0.15,>=0.13.0->llama-index-llms-google-genai) (6.0.2)\n",
      "Requirement already satisfied: setuptools>=80.9.0 in c:\\users\\user\\anaconda3\\lib\\site-packages (from llama-index-core<0.15,>=0.13.0->llama-index-llms-google-genai) (80.9.0)\n",
      "Requirement already satisfied: sqlalchemy>=1.4.49 in c:\\users\\user\\anaconda3\\lib\\site-packages (from sqlalchemy[asyncio]>=1.4.49->llama-index-core<0.15,>=0.13.0->llama-index-llms-google-genai) (2.0.39)\n",
      "Requirement already satisfied: tiktoken>=0.7.0 in c:\\users\\user\\anaconda3\\lib\\site-packages (from llama-index-core<0.15,>=0.13.0->llama-index-llms-google-genai) (0.11.0)\n",
      "Requirement already satisfied: tqdm<5,>=4.66.1 in c:\\users\\user\\anaconda3\\lib\\site-packages (from llama-index-core<0.15,>=0.13.0->llama-index-llms-google-genai) (4.67.1)\n",
      "Requirement already satisfied: typing-inspect>=0.8.0 in c:\\users\\user\\anaconda3\\lib\\site-packages (from llama-index-core<0.15,>=0.13.0->llama-index-llms-google-genai) (0.9.0)\n",
      "Requirement already satisfied: wrapt in c:\\users\\user\\anaconda3\\lib\\site-packages (from llama-index-core<0.15,>=0.13.0->llama-index-llms-google-genai) (1.17.0)\n",
      "Requirement already satisfied: aiohappyeyeballs>=2.3.0 in c:\\users\\user\\anaconda3\\lib\\site-packages (from aiohttp<4,>=3.8.6->llama-index-core<0.15,>=0.13.0->llama-index-llms-google-genai) (2.4.4)\n",
      "Requirement already satisfied: aiosignal>=1.1.2 in c:\\users\\user\\anaconda3\\lib\\site-packages (from aiohttp<4,>=3.8.6->llama-index-core<0.15,>=0.13.0->llama-index-llms-google-genai) (1.2.0)\n",
      "Requirement already satisfied: attrs>=17.3.0 in c:\\users\\user\\anaconda3\\lib\\site-packages (from aiohttp<4,>=3.8.6->llama-index-core<0.15,>=0.13.0->llama-index-llms-google-genai) (24.3.0)\n",
      "Requirement already satisfied: frozenlist>=1.1.1 in c:\\users\\user\\anaconda3\\lib\\site-packages (from aiohttp<4,>=3.8.6->llama-index-core<0.15,>=0.13.0->llama-index-llms-google-genai) (1.5.0)\n",
      "Requirement already satisfied: multidict<7.0,>=4.5 in c:\\users\\user\\anaconda3\\lib\\site-packages (from aiohttp<4,>=3.8.6->llama-index-core<0.15,>=0.13.0->llama-index-llms-google-genai) (6.1.0)\n",
      "Requirement already satisfied: propcache>=0.2.0 in c:\\users\\user\\anaconda3\\lib\\site-packages (from aiohttp<4,>=3.8.6->llama-index-core<0.15,>=0.13.0->llama-index-llms-google-genai) (0.3.1)\n",
      "Requirement already satisfied: yarl<2.0,>=1.17.0 in c:\\users\\user\\anaconda3\\lib\\site-packages (from aiohttp<4,>=3.8.6->llama-index-core<0.15,>=0.13.0->llama-index-llms-google-genai) (1.18.0)\n",
      "Requirement already satisfied: griffe in c:\\users\\user\\anaconda3\\lib\\site-packages (from banks<3,>=2.2.0->llama-index-core<0.15,>=0.13.0->llama-index-llms-google-genai) (1.14.0)\n",
      "Requirement already satisfied: jinja2 in c:\\users\\user\\anaconda3\\lib\\site-packages (from banks<3,>=2.2.0->llama-index-core<0.15,>=0.13.0->llama-index-llms-google-genai) (3.1.6)\n",
      "Requirement already satisfied: llama-index-instrumentation>=0.1.0 in c:\\users\\user\\anaconda3\\lib\\site-packages (from llama-index-workflows<2,>=1.0.1->llama-index-core<0.15,>=0.13.0->llama-index-llms-google-genai) (0.4.0)\n",
      "Requirement already satisfied: annotated-types>=0.6.0 in c:\\users\\user\\anaconda3\\lib\\site-packages (from pydantic<3.0.0,>=2.0.0->google-genai<2,>=1.24.0->llama-index-llms-google-genai) (0.6.0)\n",
      "Requirement already satisfied: pydantic-core==2.33.2 in c:\\users\\user\\anaconda3\\lib\\site-packages (from pydantic<3.0.0,>=2.0.0->google-genai<2,>=1.24.0->llama-index-llms-google-genai) (2.33.2)\n",
      "Requirement already satisfied: typing-inspection>=0.4.0 in c:\\users\\user\\anaconda3\\lib\\site-packages (from pydantic<3.0.0,>=2.0.0->google-genai<2,>=1.24.0->llama-index-llms-google-genai) (0.4.1)\n",
      "Requirement already satisfied: charset-normalizer<4,>=2 in c:\\users\\user\\anaconda3\\lib\\site-packages (from requests<3.0.0,>=2.28.1->google-genai<2,>=1.24.0->llama-index-llms-google-genai) (3.3.2)\n",
      "Requirement already satisfied: urllib3<3,>=1.21.1 in c:\\users\\user\\anaconda3\\lib\\site-packages (from requests<3.0.0,>=2.28.1->google-genai<2,>=1.24.0->llama-index-llms-google-genai) (2.3.0)\n",
      "Requirement already satisfied: pyasn1>=0.1.3 in c:\\users\\user\\anaconda3\\lib\\site-packages (from rsa<5,>=3.1.4->google-auth<3.0.0,>=2.14.1->google-genai<2,>=1.24.0->llama-index-llms-google-genai) (0.4.8)\n",
      "Requirement already satisfied: colorama in c:\\users\\user\\anaconda3\\lib\\site-packages (from tqdm<5,>=4.66.1->llama-index-core<0.15,>=0.13.0->llama-index-llms-google-genai) (0.4.6)\n",
      "Requirement already satisfied: click in c:\\users\\user\\anaconda3\\lib\\site-packages (from nltk>3.8.1->llama-index-core<0.15,>=0.13.0->llama-index-llms-google-genai) (8.1.8)\n",
      "Requirement already satisfied: joblib in c:\\users\\user\\anaconda3\\lib\\site-packages (from nltk>3.8.1->llama-index-core<0.15,>=0.13.0->llama-index-llms-google-genai) (1.4.2)\n",
      "Requirement already satisfied: regex>=2021.8.3 in c:\\users\\user\\anaconda3\\lib\\site-packages (from nltk>3.8.1->llama-index-core<0.15,>=0.13.0->llama-index-llms-google-genai) (2024.11.6)\n",
      "Requirement already satisfied: greenlet!=0.4.17 in c:\\users\\user\\anaconda3\\lib\\site-packages (from sqlalchemy>=1.4.49->sqlalchemy[asyncio]>=1.4.49->llama-index-core<0.15,>=0.13.0->llama-index-llms-google-genai) (3.1.1)\n",
      "Requirement already satisfied: mypy-extensions>=0.3.0 in c:\\users\\user\\anaconda3\\lib\\site-packages (from typing-inspect>=0.8.0->llama-index-core<0.15,>=0.13.0->llama-index-llms-google-genai) (1.0.0)\n",
      "Requirement already satisfied: marshmallow<4.0.0,>=3.18.0 in c:\\users\\user\\anaconda3\\lib\\site-packages (from dataclasses-json->llama-index-core<0.15,>=0.13.0->llama-index-llms-google-genai) (3.26.1)\n",
      "Requirement already satisfied: packaging>=17.0 in c:\\users\\user\\anaconda3\\lib\\site-packages (from marshmallow<4.0.0,>=3.18.0->dataclasses-json->llama-index-core<0.15,>=0.13.0->llama-index-llms-google-genai) (24.2)\n",
      "Requirement already satisfied: MarkupSafe>=2.0 in c:\\users\\user\\anaconda3\\lib\\site-packages (from jinja2->banks<3,>=2.2.0->llama-index-core<0.15,>=0.13.0->llama-index-llms-google-genai) (3.0.2)\n",
      "Requirement already satisfied: llama-index-embeddings-google-genai in c:\\users\\user\\anaconda3\\lib\\site-packages (0.3.1)\n",
      "Requirement already satisfied: google-genai<2,>=1.24.0 in c:\\users\\user\\anaconda3\\lib\\site-packages (from llama-index-embeddings-google-genai) (1.34.0)\n",
      "Requirement already satisfied: llama-index-core<0.15,>=0.13.0 in c:\\users\\user\\anaconda3\\lib\\site-packages (from llama-index-embeddings-google-genai) (0.13.6)\n",
      "Requirement already satisfied: anyio<5.0.0,>=4.8.0 in c:\\users\\user\\anaconda3\\lib\\site-packages (from google-genai<2,>=1.24.0->llama-index-embeddings-google-genai) (4.10.0)\n",
      "Requirement already satisfied: google-auth<3.0.0,>=2.14.1 in c:\\users\\user\\anaconda3\\lib\\site-packages (from google-genai<2,>=1.24.0->llama-index-embeddings-google-genai) (2.40.3)\n",
      "Requirement already satisfied: httpx<1.0.0,>=0.28.1 in c:\\users\\user\\anaconda3\\lib\\site-packages (from google-genai<2,>=1.24.0->llama-index-embeddings-google-genai) (0.28.1)\n",
      "Requirement already satisfied: pydantic<3.0.0,>=2.0.0 in c:\\users\\user\\anaconda3\\lib\\site-packages (from google-genai<2,>=1.24.0->llama-index-embeddings-google-genai) (2.11.7)\n",
      "Requirement already satisfied: requests<3.0.0,>=2.28.1 in c:\\users\\user\\anaconda3\\lib\\site-packages (from google-genai<2,>=1.24.0->llama-index-embeddings-google-genai) (2.32.3)\n",
      "Requirement already satisfied: tenacity<9.2.0,>=8.2.3 in c:\\users\\user\\anaconda3\\lib\\site-packages (from google-genai<2,>=1.24.0->llama-index-embeddings-google-genai) (9.0.0)\n",
      "Requirement already satisfied: websockets<15.1.0,>=13.0.0 in c:\\users\\user\\anaconda3\\lib\\site-packages (from google-genai<2,>=1.24.0->llama-index-embeddings-google-genai) (15.0.1)\n",
      "Requirement already satisfied: typing-extensions<5.0.0,>=4.11.0 in c:\\users\\user\\anaconda3\\lib\\site-packages (from google-genai<2,>=1.24.0->llama-index-embeddings-google-genai) (4.12.2)\n",
      "Requirement already satisfied: idna>=2.8 in c:\\users\\user\\anaconda3\\lib\\site-packages (from anyio<5.0.0,>=4.8.0->google-genai<2,>=1.24.0->llama-index-embeddings-google-genai) (3.7)\n",
      "Requirement already satisfied: sniffio>=1.1 in c:\\users\\user\\anaconda3\\lib\\site-packages (from anyio<5.0.0,>=4.8.0->google-genai<2,>=1.24.0->llama-index-embeddings-google-genai) (1.3.0)\n",
      "Requirement already satisfied: cachetools<6.0,>=2.0.0 in c:\\users\\user\\anaconda3\\lib\\site-packages (from google-auth<3.0.0,>=2.14.1->google-genai<2,>=1.24.0->llama-index-embeddings-google-genai) (5.5.1)\n",
      "Requirement already satisfied: pyasn1-modules>=0.2.1 in c:\\users\\user\\anaconda3\\lib\\site-packages (from google-auth<3.0.0,>=2.14.1->google-genai<2,>=1.24.0->llama-index-embeddings-google-genai) (0.2.8)\n",
      "Requirement already satisfied: rsa<5,>=3.1.4 in c:\\users\\user\\anaconda3\\lib\\site-packages (from google-auth<3.0.0,>=2.14.1->google-genai<2,>=1.24.0->llama-index-embeddings-google-genai) (4.9.1)\n",
      "Requirement already satisfied: certifi in c:\\users\\user\\anaconda3\\lib\\site-packages (from httpx<1.0.0,>=0.28.1->google-genai<2,>=1.24.0->llama-index-embeddings-google-genai) (2025.4.26)\n",
      "Requirement already satisfied: httpcore==1.* in c:\\users\\user\\anaconda3\\lib\\site-packages (from httpx<1.0.0,>=0.28.1->google-genai<2,>=1.24.0->llama-index-embeddings-google-genai) (1.0.9)\n",
      "Requirement already satisfied: h11>=0.16 in c:\\users\\user\\anaconda3\\lib\\site-packages (from httpcore==1.*->httpx<1.0.0,>=0.28.1->google-genai<2,>=1.24.0->llama-index-embeddings-google-genai) (0.16.0)\n",
      "Requirement already satisfied: aiohttp<4,>=3.8.6 in c:\\users\\user\\anaconda3\\lib\\site-packages (from llama-index-core<0.15,>=0.13.0->llama-index-embeddings-google-genai) (3.11.10)\n",
      "Requirement already satisfied: aiosqlite in c:\\users\\user\\anaconda3\\lib\\site-packages (from llama-index-core<0.15,>=0.13.0->llama-index-embeddings-google-genai) (0.21.0)\n",
      "Requirement already satisfied: banks<3,>=2.2.0 in c:\\users\\user\\anaconda3\\lib\\site-packages (from llama-index-core<0.15,>=0.13.0->llama-index-embeddings-google-genai) (2.2.0)\n",
      "Requirement already satisfied: dataclasses-json in c:\\users\\user\\anaconda3\\lib\\site-packages (from llama-index-core<0.15,>=0.13.0->llama-index-embeddings-google-genai) (0.6.7)\n",
      "Requirement already satisfied: deprecated>=1.2.9.3 in c:\\users\\user\\anaconda3\\lib\\site-packages (from llama-index-core<0.15,>=0.13.0->llama-index-embeddings-google-genai) (1.2.18)\n",
      "Requirement already satisfied: dirtyjson<2,>=1.0.8 in c:\\users\\user\\anaconda3\\lib\\site-packages (from llama-index-core<0.15,>=0.13.0->llama-index-embeddings-google-genai) (1.0.8)\n",
      "Requirement already satisfied: filetype<2,>=1.2.0 in c:\\users\\user\\anaconda3\\lib\\site-packages (from llama-index-core<0.15,>=0.13.0->llama-index-embeddings-google-genai) (1.2.0)\n",
      "Requirement already satisfied: fsspec>=2023.5.0 in c:\\users\\user\\anaconda3\\lib\\site-packages (from llama-index-core<0.15,>=0.13.0->llama-index-embeddings-google-genai) (2025.3.2)\n",
      "Requirement already satisfied: llama-index-workflows<2,>=1.0.1 in c:\\users\\user\\anaconda3\\lib\\site-packages (from llama-index-core<0.15,>=0.13.0->llama-index-embeddings-google-genai) (1.3.0)\n",
      "Requirement already satisfied: nest-asyncio<2,>=1.5.8 in c:\\users\\user\\anaconda3\\lib\\site-packages (from llama-index-core<0.15,>=0.13.0->llama-index-embeddings-google-genai) (1.6.0)\n",
      "Requirement already satisfied: networkx>=3.0 in c:\\users\\user\\anaconda3\\lib\\site-packages (from llama-index-core<0.15,>=0.13.0->llama-index-embeddings-google-genai) (3.4.2)\n",
      "Requirement already satisfied: nltk>3.8.1 in c:\\users\\user\\anaconda3\\lib\\site-packages (from llama-index-core<0.15,>=0.13.0->llama-index-embeddings-google-genai) (3.9.1)\n",
      "Requirement already satisfied: numpy in c:\\users\\user\\anaconda3\\lib\\site-packages (from llama-index-core<0.15,>=0.13.0->llama-index-embeddings-google-genai) (2.1.3)\n",
      "Requirement already satisfied: pillow>=9.0.0 in c:\\users\\user\\anaconda3\\lib\\site-packages (from llama-index-core<0.15,>=0.13.0->llama-index-embeddings-google-genai) (11.1.0)\n",
      "Requirement already satisfied: platformdirs in c:\\users\\user\\anaconda3\\lib\\site-packages (from llama-index-core<0.15,>=0.13.0->llama-index-embeddings-google-genai) (4.3.7)\n",
      "Requirement already satisfied: pyyaml>=6.0.1 in c:\\users\\user\\anaconda3\\lib\\site-packages (from llama-index-core<0.15,>=0.13.0->llama-index-embeddings-google-genai) (6.0.2)\n",
      "Requirement already satisfied: setuptools>=80.9.0 in c:\\users\\user\\anaconda3\\lib\\site-packages (from llama-index-core<0.15,>=0.13.0->llama-index-embeddings-google-genai) (80.9.0)\n",
      "Requirement already satisfied: sqlalchemy>=1.4.49 in c:\\users\\user\\anaconda3\\lib\\site-packages (from sqlalchemy[asyncio]>=1.4.49->llama-index-core<0.15,>=0.13.0->llama-index-embeddings-google-genai) (2.0.39)\n",
      "Requirement already satisfied: tiktoken>=0.7.0 in c:\\users\\user\\anaconda3\\lib\\site-packages (from llama-index-core<0.15,>=0.13.0->llama-index-embeddings-google-genai) (0.11.0)\n",
      "Requirement already satisfied: tqdm<5,>=4.66.1 in c:\\users\\user\\anaconda3\\lib\\site-packages (from llama-index-core<0.15,>=0.13.0->llama-index-embeddings-google-genai) (4.67.1)\n",
      "Requirement already satisfied: typing-inspect>=0.8.0 in c:\\users\\user\\anaconda3\\lib\\site-packages (from llama-index-core<0.15,>=0.13.0->llama-index-embeddings-google-genai) (0.9.0)\n",
      "Requirement already satisfied: wrapt in c:\\users\\user\\anaconda3\\lib\\site-packages (from llama-index-core<0.15,>=0.13.0->llama-index-embeddings-google-genai) (1.17.0)\n",
      "Requirement already satisfied: aiohappyeyeballs>=2.3.0 in c:\\users\\user\\anaconda3\\lib\\site-packages (from aiohttp<4,>=3.8.6->llama-index-core<0.15,>=0.13.0->llama-index-embeddings-google-genai) (2.4.4)\n",
      "Requirement already satisfied: aiosignal>=1.1.2 in c:\\users\\user\\anaconda3\\lib\\site-packages (from aiohttp<4,>=3.8.6->llama-index-core<0.15,>=0.13.0->llama-index-embeddings-google-genai) (1.2.0)\n",
      "Requirement already satisfied: attrs>=17.3.0 in c:\\users\\user\\anaconda3\\lib\\site-packages (from aiohttp<4,>=3.8.6->llama-index-core<0.15,>=0.13.0->llama-index-embeddings-google-genai) (24.3.0)\n",
      "Requirement already satisfied: frozenlist>=1.1.1 in c:\\users\\user\\anaconda3\\lib\\site-packages (from aiohttp<4,>=3.8.6->llama-index-core<0.15,>=0.13.0->llama-index-embeddings-google-genai) (1.5.0)\n",
      "Requirement already satisfied: multidict<7.0,>=4.5 in c:\\users\\user\\anaconda3\\lib\\site-packages (from aiohttp<4,>=3.8.6->llama-index-core<0.15,>=0.13.0->llama-index-embeddings-google-genai) (6.1.0)\n",
      "Requirement already satisfied: propcache>=0.2.0 in c:\\users\\user\\anaconda3\\lib\\site-packages (from aiohttp<4,>=3.8.6->llama-index-core<0.15,>=0.13.0->llama-index-embeddings-google-genai) (0.3.1)\n",
      "Requirement already satisfied: yarl<2.0,>=1.17.0 in c:\\users\\user\\anaconda3\\lib\\site-packages (from aiohttp<4,>=3.8.6->llama-index-core<0.15,>=0.13.0->llama-index-embeddings-google-genai) (1.18.0)\n",
      "Requirement already satisfied: griffe in c:\\users\\user\\anaconda3\\lib\\site-packages (from banks<3,>=2.2.0->llama-index-core<0.15,>=0.13.0->llama-index-embeddings-google-genai) (1.14.0)\n",
      "Requirement already satisfied: jinja2 in c:\\users\\user\\anaconda3\\lib\\site-packages (from banks<3,>=2.2.0->llama-index-core<0.15,>=0.13.0->llama-index-embeddings-google-genai) (3.1.6)\n",
      "Requirement already satisfied: llama-index-instrumentation>=0.1.0 in c:\\users\\user\\anaconda3\\lib\\site-packages (from llama-index-workflows<2,>=1.0.1->llama-index-core<0.15,>=0.13.0->llama-index-embeddings-google-genai) (0.4.0)\n",
      "Requirement already satisfied: annotated-types>=0.6.0 in c:\\users\\user\\anaconda3\\lib\\site-packages (from pydantic<3.0.0,>=2.0.0->google-genai<2,>=1.24.0->llama-index-embeddings-google-genai) (0.6.0)\n",
      "Requirement already satisfied: pydantic-core==2.33.2 in c:\\users\\user\\anaconda3\\lib\\site-packages (from pydantic<3.0.0,>=2.0.0->google-genai<2,>=1.24.0->llama-index-embeddings-google-genai) (2.33.2)\n",
      "Requirement already satisfied: typing-inspection>=0.4.0 in c:\\users\\user\\anaconda3\\lib\\site-packages (from pydantic<3.0.0,>=2.0.0->google-genai<2,>=1.24.0->llama-index-embeddings-google-genai) (0.4.1)\n",
      "Requirement already satisfied: charset-normalizer<4,>=2 in c:\\users\\user\\anaconda3\\lib\\site-packages (from requests<3.0.0,>=2.28.1->google-genai<2,>=1.24.0->llama-index-embeddings-google-genai) (3.3.2)\n",
      "Requirement already satisfied: urllib3<3,>=1.21.1 in c:\\users\\user\\anaconda3\\lib\\site-packages (from requests<3.0.0,>=2.28.1->google-genai<2,>=1.24.0->llama-index-embeddings-google-genai) (2.3.0)\n",
      "Requirement already satisfied: pyasn1>=0.1.3 in c:\\users\\user\\anaconda3\\lib\\site-packages (from rsa<5,>=3.1.4->google-auth<3.0.0,>=2.14.1->google-genai<2,>=1.24.0->llama-index-embeddings-google-genai) (0.4.8)\n",
      "Requirement already satisfied: colorama in c:\\users\\user\\anaconda3\\lib\\site-packages (from tqdm<5,>=4.66.1->llama-index-core<0.15,>=0.13.0->llama-index-embeddings-google-genai) (0.4.6)\n",
      "Requirement already satisfied: click in c:\\users\\user\\anaconda3\\lib\\site-packages (from nltk>3.8.1->llama-index-core<0.15,>=0.13.0->llama-index-embeddings-google-genai) (8.1.8)\n",
      "Requirement already satisfied: joblib in c:\\users\\user\\anaconda3\\lib\\site-packages (from nltk>3.8.1->llama-index-core<0.15,>=0.13.0->llama-index-embeddings-google-genai) (1.4.2)\n",
      "Requirement already satisfied: regex>=2021.8.3 in c:\\users\\user\\anaconda3\\lib\\site-packages (from nltk>3.8.1->llama-index-core<0.15,>=0.13.0->llama-index-embeddings-google-genai) (2024.11.6)\n",
      "Requirement already satisfied: greenlet!=0.4.17 in c:\\users\\user\\anaconda3\\lib\\site-packages (from sqlalchemy>=1.4.49->sqlalchemy[asyncio]>=1.4.49->llama-index-core<0.15,>=0.13.0->llama-index-embeddings-google-genai) (3.1.1)\n",
      "Requirement already satisfied: mypy-extensions>=0.3.0 in c:\\users\\user\\anaconda3\\lib\\site-packages (from typing-inspect>=0.8.0->llama-index-core<0.15,>=0.13.0->llama-index-embeddings-google-genai) (1.0.0)\n",
      "Requirement already satisfied: marshmallow<4.0.0,>=3.18.0 in c:\\users\\user\\anaconda3\\lib\\site-packages (from dataclasses-json->llama-index-core<0.15,>=0.13.0->llama-index-embeddings-google-genai) (3.26.1)\n",
      "Requirement already satisfied: packaging>=17.0 in c:\\users\\user\\anaconda3\\lib\\site-packages (from marshmallow<4.0.0,>=3.18.0->dataclasses-json->llama-index-core<0.15,>=0.13.0->llama-index-embeddings-google-genai) (24.2)\n",
      "Requirement already satisfied: MarkupSafe>=2.0 in c:\\users\\user\\anaconda3\\lib\\site-packages (from jinja2->banks<3,>=2.2.0->llama-index-core<0.15,>=0.13.0->llama-index-embeddings-google-genai) (3.0.2)\n",
      "Requirement already satisfied: google-generativeai in c:\\users\\user\\anaconda3\\lib\\site-packages (0.8.5)\n",
      "Requirement already satisfied: google-ai-generativelanguage==0.6.15 in c:\\users\\user\\anaconda3\\lib\\site-packages (from google-generativeai) (0.6.15)\n",
      "Requirement already satisfied: google-api-core in c:\\users\\user\\anaconda3\\lib\\site-packages (from google-generativeai) (2.25.1)\n",
      "Requirement already satisfied: google-api-python-client in c:\\users\\user\\anaconda3\\lib\\site-packages (from google-generativeai) (2.181.0)\n",
      "Requirement already satisfied: google-auth>=2.15.0 in c:\\users\\user\\anaconda3\\lib\\site-packages (from google-generativeai) (2.40.3)\n",
      "Requirement already satisfied: protobuf in c:\\users\\user\\anaconda3\\lib\\site-packages (from google-generativeai) (5.29.3)\n",
      "Requirement already satisfied: pydantic in c:\\users\\user\\anaconda3\\lib\\site-packages (from google-generativeai) (2.11.7)\n",
      "Requirement already satisfied: tqdm in c:\\users\\user\\anaconda3\\lib\\site-packages (from google-generativeai) (4.67.1)\n",
      "Requirement already satisfied: typing-extensions in c:\\users\\user\\anaconda3\\lib\\site-packages (from google-generativeai) (4.12.2)\n",
      "Requirement already satisfied: proto-plus<2.0.0dev,>=1.22.3 in c:\\users\\user\\anaconda3\\lib\\site-packages (from google-ai-generativelanguage==0.6.15->google-generativeai) (1.26.1)\n",
      "Requirement already satisfied: googleapis-common-protos<2.0.0,>=1.56.2 in c:\\users\\user\\anaconda3\\lib\\site-packages (from google-api-core->google-generativeai) (1.70.0)\n",
      "Requirement already satisfied: requests<3.0.0,>=2.18.0 in c:\\users\\user\\anaconda3\\lib\\site-packages (from google-api-core->google-generativeai) (2.32.3)\n",
      "Requirement already satisfied: grpcio<2.0.0,>=1.33.2 in c:\\users\\user\\anaconda3\\lib\\site-packages (from google-api-core[grpc]!=2.0.*,!=2.1.*,!=2.10.*,!=2.2.*,!=2.3.*,!=2.4.*,!=2.5.*,!=2.6.*,!=2.7.*,!=2.8.*,!=2.9.*,<3.0.0dev,>=1.34.1->google-ai-generativelanguage==0.6.15->google-generativeai) (1.74.0)\n",
      "Requirement already satisfied: grpcio-status<2.0.0,>=1.33.2 in c:\\users\\user\\anaconda3\\lib\\site-packages (from google-api-core[grpc]!=2.0.*,!=2.1.*,!=2.10.*,!=2.2.*,!=2.3.*,!=2.4.*,!=2.5.*,!=2.6.*,!=2.7.*,!=2.8.*,!=2.9.*,<3.0.0dev,>=1.34.1->google-ai-generativelanguage==0.6.15->google-generativeai) (1.71.2)\n",
      "Requirement already satisfied: cachetools<6.0,>=2.0.0 in c:\\users\\user\\anaconda3\\lib\\site-packages (from google-auth>=2.15.0->google-generativeai) (5.5.1)\n",
      "Requirement already satisfied: pyasn1-modules>=0.2.1 in c:\\users\\user\\anaconda3\\lib\\site-packages (from google-auth>=2.15.0->google-generativeai) (0.2.8)\n",
      "Requirement already satisfied: rsa<5,>=3.1.4 in c:\\users\\user\\anaconda3\\lib\\site-packages (from google-auth>=2.15.0->google-generativeai) (4.9.1)\n",
      "Requirement already satisfied: charset-normalizer<4,>=2 in c:\\users\\user\\anaconda3\\lib\\site-packages (from requests<3.0.0,>=2.18.0->google-api-core->google-generativeai) (3.3.2)\n",
      "Requirement already satisfied: idna<4,>=2.5 in c:\\users\\user\\anaconda3\\lib\\site-packages (from requests<3.0.0,>=2.18.0->google-api-core->google-generativeai) (3.7)\n",
      "Requirement already satisfied: urllib3<3,>=1.21.1 in c:\\users\\user\\anaconda3\\lib\\site-packages (from requests<3.0.0,>=2.18.0->google-api-core->google-generativeai) (2.3.0)\n",
      "Requirement already satisfied: certifi>=2017.4.17 in c:\\users\\user\\anaconda3\\lib\\site-packages (from requests<3.0.0,>=2.18.0->google-api-core->google-generativeai) (2025.4.26)\n",
      "Requirement already satisfied: pyasn1>=0.1.3 in c:\\users\\user\\anaconda3\\lib\\site-packages (from rsa<5,>=3.1.4->google-auth>=2.15.0->google-generativeai) (0.4.8)\n",
      "Requirement already satisfied: httplib2<1.0.0,>=0.19.0 in c:\\users\\user\\anaconda3\\lib\\site-packages (from google-api-python-client->google-generativeai) (0.30.0)\n",
      "Requirement already satisfied: google-auth-httplib2<1.0.0,>=0.2.0 in c:\\users\\user\\anaconda3\\lib\\site-packages (from google-api-python-client->google-generativeai) (0.2.0)\n",
      "Requirement already satisfied: uritemplate<5,>=3.0.1 in c:\\users\\user\\anaconda3\\lib\\site-packages (from google-api-python-client->google-generativeai) (4.2.0)\n",
      "Requirement already satisfied: pyparsing<4,>=3.0.4 in c:\\users\\user\\anaconda3\\lib\\site-packages (from httplib2<1.0.0,>=0.19.0->google-api-python-client->google-generativeai) (3.2.0)\n",
      "Requirement already satisfied: annotated-types>=0.6.0 in c:\\users\\user\\anaconda3\\lib\\site-packages (from pydantic->google-generativeai) (0.6.0)\n",
      "Requirement already satisfied: pydantic-core==2.33.2 in c:\\users\\user\\anaconda3\\lib\\site-packages (from pydantic->google-generativeai) (2.33.2)\n",
      "Requirement already satisfied: typing-inspection>=0.4.0 in c:\\users\\user\\anaconda3\\lib\\site-packages (from pydantic->google-generativeai) (0.4.1)\n",
      "Requirement already satisfied: colorama in c:\\users\\user\\anaconda3\\lib\\site-packages (from tqdm->google-generativeai) (0.4.6)\n",
      "Collecting docx2txt\n",
      "  Downloading docx2txt-0.9-py3-none-any.whl.metadata (529 bytes)\n",
      "Downloading docx2txt-0.9-py3-none-any.whl (4.0 kB)\n",
      "Installing collected packages: docx2txt\n",
      "Successfully installed docx2txt-0.9\n"
     ]
    }
   ],
   "source": [
    "#installing dependencies\n",
    "!pip install llama-index\n",
    "!pip install llama-index-llms-google-genai\n",
    "!pip install llama-index-embeddings-google-genai\n",
    "!pip install google-generativeai\n",
    "!pip install docx2txt"
   ]
  },
  {
   "cell_type": "code",
   "execution_count": null,
   "id": "582d1a92",
   "metadata": {},
   "outputs": [],
   "source": [
    "#importing libraries\n",
    "import os\n",
    "from llama_index.core import SimpleDirectoryReader,VectorStoreIndex\n",
    "from llama_index.embeddings.google_genai import GoogleGenAIEmbedding\n",
    "from llama_index.llms.google_genai import GoogleGenAI\n",
    "import google.generativeai as genai\n",
    "from llama_index.core import Settings\n",
    "from llama_index.core.node_parser import SentenceSplitter\n",
    "from llama_index.llms.google_genai import GoogleGenAI"
   ]
  },
  {
   "cell_type": "code",
   "execution_count": 3,
   "id": "82557dde",
   "metadata": {},
   "outputs": [
    {
     "data": {
      "text/plain": [
       "<function google.generativeai.client.configure(*, api_key: 'str | None' = None, credentials: 'ga_credentials.Credentials | dict | None' = None, transport: 'str | None' = None, client_options: 'client_options_lib.ClientOptions | dict | None' = None, client_info: 'gapic_v1.client_info.ClientInfo | None' = None, default_metadata: 'Sequence[tuple[str, str]]' = ())>"
      ]
     },
     "execution_count": 3,
     "metadata": {},
     "output_type": "execute_result"
    }
   ],
   "source": [
    "#importing api key from .env file\n",
    "from dotenv import load_dotenv\n",
    "load_dotenv()\n",
    "api_key = os.getenv(\"GOOGLE_API_KEY\")\n",
    "genai.configure\n"
   ]
  },
  {
   "cell_type": "code",
   "execution_count": 5,
   "id": "46069cac",
   "metadata": {},
   "outputs": [
    {
     "name": "stdout",
     "output_type": "stream",
     "text": [
      "Collecting wikipedia\n",
      "  Downloading wikipedia-1.4.0.tar.gz (27 kB)\n",
      "  Preparing metadata (setup.py): started\n",
      "  Preparing metadata (setup.py): finished with status 'done'\n",
      "Collecting python-docx\n",
      "  Downloading python_docx-1.2.0-py3-none-any.whl.metadata (2.0 kB)\n",
      "Requirement already satisfied: beautifulsoup4 in c:\\users\\user\\anaconda3\\lib\\site-packages (from wikipedia) (4.12.3)\n",
      "Requirement already satisfied: requests<3.0.0,>=2.0.0 in c:\\users\\user\\anaconda3\\lib\\site-packages (from wikipedia) (2.32.3)\n",
      "Requirement already satisfied: charset-normalizer<4,>=2 in c:\\users\\user\\anaconda3\\lib\\site-packages (from requests<3.0.0,>=2.0.0->wikipedia) (3.3.2)\n",
      "Requirement already satisfied: idna<4,>=2.5 in c:\\users\\user\\anaconda3\\lib\\site-packages (from requests<3.0.0,>=2.0.0->wikipedia) (3.7)\n",
      "Requirement already satisfied: urllib3<3,>=1.21.1 in c:\\users\\user\\anaconda3\\lib\\site-packages (from requests<3.0.0,>=2.0.0->wikipedia) (2.3.0)\n",
      "Requirement already satisfied: certifi>=2017.4.17 in c:\\users\\user\\anaconda3\\lib\\site-packages (from requests<3.0.0,>=2.0.0->wikipedia) (2025.4.26)\n",
      "Requirement already satisfied: lxml>=3.1.0 in c:\\users\\user\\anaconda3\\lib\\site-packages (from python-docx) (5.3.0)\n",
      "Requirement already satisfied: typing_extensions>=4.9.0 in c:\\users\\user\\anaconda3\\lib\\site-packages (from python-docx) (4.12.2)\n",
      "Requirement already satisfied: soupsieve>1.2 in c:\\users\\user\\anaconda3\\lib\\site-packages (from beautifulsoup4->wikipedia) (2.5)\n",
      "Downloading python_docx-1.2.0-py3-none-any.whl (252 kB)\n",
      "Building wheels for collected packages: wikipedia\n",
      "  Building wheel for wikipedia (setup.py): started\n",
      "  Building wheel for wikipedia (setup.py): finished with status 'done'\n",
      "  Created wheel for wikipedia: filename=wikipedia-1.4.0-py3-none-any.whl size=11785 sha256=69d8f0b5a2163847cbeb414bbcb2e6005326d7ef0ab9db6e5a98d511ce0b0206\n",
      "  Stored in directory: c:\\users\\user\\appdata\\local\\pip\\cache\\wheels\\79\\1d\\c8\\b64e19423cc5a2a339450ea5d145e7c8eb3d4aa2b150cde33b\n",
      "Successfully built wikipedia\n",
      "Installing collected packages: python-docx, wikipedia\n",
      "\n",
      "   ---------------------------------------- 0/2 [python-docx]\n",
      "   ---------------------------------------- 0/2 [python-docx]\n",
      "   ---------------------------------------- 0/2 [python-docx]\n",
      "   -------------------- ------------------- 1/2 [wikipedia]\n",
      "   ---------------------------------------- 2/2 [wikipedia]\n",
      "\n",
      "Successfully installed python-docx-1.2.0 wikipedia-1.4.0\n"
     ]
    },
    {
     "name": "stderr",
     "output_type": "stream",
     "text": [
      "  DEPRECATION: Building 'wikipedia' using the legacy setup.py bdist_wheel mechanism, which will be removed in a future version. pip 25.3 will enforce this behaviour change. A possible replacement is to use the standardized build interface by setting the `--use-pep517` option, (possibly combined with `--no-build-isolation`), or adding a `pyproject.toml` file to the source tree of 'wikipedia'. Discussion can be found at https://github.com/pypa/pip/issues/6334\n"
     ]
    }
   ],
   "source": [
    "#creating a document file from a wikipidea article\n",
    "!pip install wikipedia python-docx\n"
   ]
  },
  {
   "cell_type": "code",
   "execution_count": 9,
   "id": "2ea6e45f",
   "metadata": {},
   "outputs": [
    {
     "name": "stdout",
     "output_type": "stream",
     "text": [
      "Article 'Artificial intelligence' saved to Artificial intellience.docx\n"
     ]
    }
   ],
   "source": [
    "#creating a document file from a wikipidea article\n",
    "\n",
    "import wikipedia\n",
    "from docx import Document\n",
    "from urllib.parse import urlparse, unquote\n",
    "\n",
    "def wikipedia_url_to_docx(url, filename=\"artificial_intelligence.docx\", lang=\"en\"):\n",
    "    # Extract article title from URL\n",
    "    parsed_url = urlparse(url)\n",
    "    title = unquote(parsed_url.path.split(\"/\")[-1].replace(\"_\", \" \"))\n",
    "    \n",
    "    # Set language for Wikipedia API\n",
    "    wikipedia.set_lang(lang)\n",
    "    \n",
    "    try:\n",
    "        # Fetch Wikipedia page content\n",
    "        page = wikipedia.page(title)\n",
    "    except wikipedia.exceptions.DisambiguationError as e:\n",
    "        print(f\"Disambiguation Error: Multiple pages found for '{title}'. Options include: {e.options}\")\n",
    "        return\n",
    "    except wikipedia.exceptions.PageError:\n",
    "        print(f\"Page not found: '{title}'\")\n",
    "        return\n",
    "    \n",
    "    # Create and save docx file\n",
    "    doc = Document()\n",
    "    doc.add_heading(page.title, 0)\n",
    "    \n",
    "    for para in page.content.split('\\n'):\n",
    "        if para.strip():\n",
    "            doc.add_paragraph(para.strip())\n",
    "    \n",
    "    doc.save(filename)\n",
    "    print(f\"Article '{page.title}' saved to {filename}\")\n",
    "\n",
    "\n",
    "wikipedia_url_to_docx(\"https://en.wikipedia.org/wiki/Artificial_intelligence\", \"Artificial intellience.docx\")\n"
   ]
  },
  {
   "cell_type": "code",
   "execution_count": 14,
   "id": "ec71f81d",
   "metadata": {},
   "outputs": [],
   "source": [
    "#loading the document file\n",
    "documents = SimpleDirectoryReader(r'C:\\Users\\USER\\rag_basics_1',  required_exts=[\".docx\"] ).load_data()"
   ]
  },
  {
   "cell_type": "code",
   "execution_count": 15,
   "id": "65e087bf",
   "metadata": {},
   "outputs": [
    {
     "data": {
      "text/plain": [
       "'Artificial intelligence\\n\\nArtificial intelligence (AI) is the capability of computational systems to perform tasks typically associated with human intelligence, such as learning, reasoning, problem-solving, perception, and decision-making. It is a field of research in computer science that develops and studies methods and software that enable machines to perceive their environment and use learning and intelligence to take actions that maximize their chances of achieving defined goals.\\n\\nHigh-profi'"
      ]
     },
     "execution_count": 15,
     "metadata": {},
     "output_type": "execute_result"
    }
   ],
   "source": [
    "documents[0].text[:500]  # Display the first 500 characters of the first document"
   ]
  },
  {
   "cell_type": "code",
   "execution_count": 18,
   "id": "a5193412",
   "metadata": {},
   "outputs": [
    {
     "name": "stderr",
     "output_type": "stream",
     "text": [
      "2025-09-09 11:11:13,662 - INFO - HTTP Request: GET https://generativelanguage.googleapis.com/v1beta/models/gemini-2.5-pro \"HTTP/1.1 200 OK\"\n"
     ]
    }
   ],
   "source": [
    "#declearing model and embedding and sentence splitter\n",
    "llm = GoogleGenAI(model=\"gemini-2.5-pro\", api_key  = api_key)\n",
    "embed_model = GoogleGenAIEmbedding(model=\"text-embedding-004\",  api_key  = api_key)\n",
    "splitter = SentenceSplitter(chunk_size=512, chunk_overlap=50)\n"
   ]
  },
  {
   "cell_type": "code",
   "execution_count": 23,
   "id": "d55ad7e5",
   "metadata": {},
   "outputs": [
    {
     "name": "stderr",
     "output_type": "stream",
     "text": [
      "2025-09-09 11:19:13,717 - INFO - HTTP Request: POST https://generativelanguage.googleapis.com/v1beta/models/text-embedding-004:batchEmbedContents \"HTTP/1.1 200 OK\"\n",
      "2025-09-09 11:19:14,530 - INFO - HTTP Request: POST https://generativelanguage.googleapis.com/v1beta/models/text-embedding-004:batchEmbedContents \"HTTP/1.1 200 OK\"\n",
      "2025-09-09 11:19:15,274 - INFO - HTTP Request: POST https://generativelanguage.googleapis.com/v1beta/models/text-embedding-004:batchEmbedContents \"HTTP/1.1 200 OK\"\n",
      "2025-09-09 11:19:15,719 - INFO - HTTP Request: POST https://generativelanguage.googleapis.com/v1beta/models/text-embedding-004:batchEmbedContents \"HTTP/1.1 200 OK\"\n",
      "2025-09-09 11:19:16,171 - INFO - HTTP Request: POST https://generativelanguage.googleapis.com/v1beta/models/text-embedding-004:batchEmbedContents \"HTTP/1.1 200 OK\"\n"
     ]
    }
   ],
   "source": [
    "#indexing the document\n",
    "\n",
    "Settings.node_parser = splitter  \n",
    "Settings.llm = llm  \n",
    "Settings.embed_model = embed_model\n",
    "index = VectorStoreIndex.from_documents(documents)"
   ]
  },
  {
   "cell_type": "code",
   "execution_count": null,
   "id": "0bf7d573",
   "metadata": {},
   "outputs": [],
   "source": [
    "#storing the index on disk\n",
    "index.storage_context.persist(persist_dir=\"./storage\")"
   ]
  },
  {
   "cell_type": "code",
   "execution_count": 25,
   "id": "7a028aa2",
   "metadata": {},
   "outputs": [
    {
     "name": "stderr",
     "output_type": "stream",
     "text": [
      "2025-09-09 11:20:25,719 - INFO - HTTP Request: POST https://generativelanguage.googleapis.com/v1beta/models/text-embedding-004:batchEmbedContents \"HTTP/1.1 200 OK\"\n",
      "2025-09-09 11:20:25,805 - INFO - AFC is enabled with max remote calls: 10.\n",
      "2025-09-09 11:20:40,137 - INFO - HTTP Request: POST https://generativelanguage.googleapis.com/v1beta/models/gemini-2.5-pro:generateContent \"HTTP/1.1 200 OK\"\n",
      "2025-09-09 11:20:40,146 - INFO - AFC remote call 1 is done.\n"
     ]
    }
   ],
   "source": [
    "#querying the index\n",
    "query_engine = index.as_query_engine()\n",
    "response = query_engine.query(\"What is Artificial Intelligence?\")"
   ]
  },
  {
   "cell_type": "code",
   "execution_count": 26,
   "id": "619b6f4c",
   "metadata": {},
   "outputs": [
    {
     "name": "stdout",
     "output_type": "stream",
     "text": [
      "Artificial intelligence (AI) is the ability of computational systems to carry out tasks that are typically associated with human intelligence, such as learning, reasoning, problem-solving, perception, and decision-making. As a field of computer science research, it involves developing methods and software that allow machines to perceive their surroundings and take actions to maximize their chances of reaching specific goals.\n",
      "\n",
      "There are several ways to define intelligence in this context:\n",
      "*   **John McCarthy**, an AI founder, defined it as \"the computational part of the ability to achieve goals in the world.\"\n",
      "*   **Marvin Minsky**, another founder, described it as \"the ability to solve hard problems.\"\n",
      "*   **Google** defines it as the ability of systems to synthesize information, which is similar to how biological intelligence is defined.\n",
      "*   A leading AI textbook describes the field as the study of agents that can perceive their environment and act to maximize their chances of achieving their goals.\n",
      "\n",
      "High-profile applications of AI include:\n",
      "*   Advanced web search engines like Google Search\n",
      "*   Recommendation systems used by YouTube, Amazon, and Netflix\n",
      "*   Virtual assistants such as Google Assistant, Siri, and Alexa\n",
      "*   Autonomous vehicles like Waymo\n",
      "*   Generative tools for language and art\n",
      "*   Superhuman performance in strategy games like chess and Go\n",
      "\n",
      "It is noted that once an AI technology becomes common and useful, it is often no longer labeled as \"AI.\" The term can also be used broadly and vaguely as a marketing buzzword, even by companies that do not use AI in a significant way.\n"
     ]
    }
   ],
   "source": [
    "print(response)"
   ]
  },
  {
   "cell_type": "code",
   "execution_count": null,
   "id": "cb3d4f4f",
   "metadata": {},
   "outputs": [],
   "source": []
  }
 ],
 "metadata": {
  "kernelspec": {
   "display_name": "base",
   "language": "python",
   "name": "python3"
  },
  "language_info": {
   "codemirror_mode": {
    "name": "ipython",
    "version": 3
   },
   "file_extension": ".py",
   "mimetype": "text/x-python",
   "name": "python",
   "nbconvert_exporter": "python",
   "pygments_lexer": "ipython3",
   "version": "3.13.5"
  }
 },
 "nbformat": 4,
 "nbformat_minor": 5
}
